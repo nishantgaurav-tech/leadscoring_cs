{
 "cells": [
  {
   "cell_type": "markdown",
   "id": "8f616df4-f45e-456c-b2ab-db64708dd1d5",
   "metadata": {},
   "source": [
    "## Importing Necessary Libraries¶"
   ]
  },
  {
   "cell_type": "code",
   "execution_count": 125,
   "id": "475ce30d-6393-4fc9-b42b-6830893a29cd",
   "metadata": {},
   "outputs": [],
   "source": [
    "import pandas as pd\n",
    "import numpy as np\n",
    "import matplotlib.pyplot as plt\n",
    "import seaborn as sns\n",
    "import warnings\n",
    "warnings.filterwarnings(action='ignore')"
   ]
  },
  {
   "cell_type": "markdown",
   "id": "30259a41-0750-4046-b68c-608605c5a238",
   "metadata": {},
   "source": [
    "## Load \"leads\" Data"
   ]
  },
  {
   "cell_type": "code",
   "execution_count": 127,
   "id": "10032efd-d610-44d4-804a-ea2c8a08b32e",
   "metadata": {},
   "outputs": [],
   "source": [
    "leads_df=pd.read_csv('Leads.csv')"
   ]
  },
  {
   "cell_type": "markdown",
   "id": "f517335e-0bea-40fe-bc20-1eb25d5d6bbf",
   "metadata": {},
   "source": [
    "## Inspect Data Quality"
   ]
  },
  {
   "cell_type": "code",
   "execution_count": 129,
   "id": "eebe63f2-e7f3-4fac-9550-de0650153c33",
   "metadata": {},
   "outputs": [
    {
     "data": {
      "text/plain": [
       "(9240, 37)"
      ]
     },
     "execution_count": 129,
     "metadata": {},
     "output_type": "execute_result"
    }
   ],
   "source": [
    "leads_df.shape"
   ]
  },
  {
   "cell_type": "code",
   "execution_count": 130,
   "id": "bddc7658-5677-4bfa-ab6d-02f407bb4a4f",
   "metadata": {},
   "outputs": [
    {
     "name": "stdout",
     "output_type": "stream",
     "text": [
      "<class 'pandas.core.frame.DataFrame'>\n",
      "RangeIndex: 9240 entries, 0 to 9239\n",
      "Data columns (total 37 columns):\n",
      " #   Column                                         Non-Null Count  Dtype  \n",
      "---  ------                                         --------------  -----  \n",
      " 0   Prospect ID                                    9240 non-null   object \n",
      " 1   Lead Number                                    9240 non-null   int64  \n",
      " 2   Lead Origin                                    9240 non-null   object \n",
      " 3   Lead Source                                    9204 non-null   object \n",
      " 4   Do Not Email                                   9240 non-null   object \n",
      " 5   Do Not Call                                    9240 non-null   object \n",
      " 6   Converted                                      9240 non-null   int64  \n",
      " 7   TotalVisits                                    9103 non-null   float64\n",
      " 8   Total Time Spent on Website                    9240 non-null   int64  \n",
      " 9   Page Views Per Visit                           9103 non-null   float64\n",
      " 10  Last Activity                                  9137 non-null   object \n",
      " 11  Country                                        6779 non-null   object \n",
      " 12  Specialization                                 7802 non-null   object \n",
      " 13  How did you hear about X Education             7033 non-null   object \n",
      " 14  What is your current occupation                6550 non-null   object \n",
      " 15  What matters most to you in choosing a course  6531 non-null   object \n",
      " 16  Search                                         9240 non-null   object \n",
      " 17  Magazine                                       9240 non-null   object \n",
      " 18  Newspaper Article                              9240 non-null   object \n",
      " 19  X Education Forums                             9240 non-null   object \n",
      " 20  Newspaper                                      9240 non-null   object \n",
      " 21  Digital Advertisement                          9240 non-null   object \n",
      " 22  Through Recommendations                        9240 non-null   object \n",
      " 23  Receive More Updates About Our Courses         9240 non-null   object \n",
      " 24  Tags                                           5887 non-null   object \n",
      " 25  Lead Quality                                   4473 non-null   object \n",
      " 26  Update me on Supply Chain Content              9240 non-null   object \n",
      " 27  Get updates on DM Content                      9240 non-null   object \n",
      " 28  Lead Profile                                   6531 non-null   object \n",
      " 29  City                                           7820 non-null   object \n",
      " 30  Asymmetrique Activity Index                    5022 non-null   object \n",
      " 31  Asymmetrique Profile Index                     5022 non-null   object \n",
      " 32  Asymmetrique Activity Score                    5022 non-null   float64\n",
      " 33  Asymmetrique Profile Score                     5022 non-null   float64\n",
      " 34  I agree to pay the amount through cheque       9240 non-null   object \n",
      " 35  A free copy of Mastering The Interview         9240 non-null   object \n",
      " 36  Last Notable Activity                          9240 non-null   object \n",
      "dtypes: float64(4), int64(3), object(30)\n",
      "memory usage: 2.6+ MB\n"
     ]
    }
   ],
   "source": [
    "leads_df.info()"
   ]
  },
  {
   "cell_type": "code",
   "execution_count": 131,
   "id": "92032e24-73f0-4be3-8901-a26fcdbc3b7e",
   "metadata": {},
   "outputs": [
    {
     "data": {
      "text/html": [
       "<div>\n",
       "<style scoped>\n",
       "    .dataframe tbody tr th:only-of-type {\n",
       "        vertical-align: middle;\n",
       "    }\n",
       "\n",
       "    .dataframe tbody tr th {\n",
       "        vertical-align: top;\n",
       "    }\n",
       "\n",
       "    .dataframe thead th {\n",
       "        text-align: right;\n",
       "    }\n",
       "</style>\n",
       "<table border=\"1\" class=\"dataframe\">\n",
       "  <thead>\n",
       "    <tr style=\"text-align: right;\">\n",
       "      <th></th>\n",
       "      <th>Prospect ID</th>\n",
       "      <th>Lead Number</th>\n",
       "      <th>Lead Origin</th>\n",
       "      <th>Lead Source</th>\n",
       "      <th>Do Not Email</th>\n",
       "      <th>Do Not Call</th>\n",
       "      <th>Converted</th>\n",
       "      <th>TotalVisits</th>\n",
       "      <th>Total Time Spent on Website</th>\n",
       "      <th>Page Views Per Visit</th>\n",
       "      <th>...</th>\n",
       "      <th>Get updates on DM Content</th>\n",
       "      <th>Lead Profile</th>\n",
       "      <th>City</th>\n",
       "      <th>Asymmetrique Activity Index</th>\n",
       "      <th>Asymmetrique Profile Index</th>\n",
       "      <th>Asymmetrique Activity Score</th>\n",
       "      <th>Asymmetrique Profile Score</th>\n",
       "      <th>I agree to pay the amount through cheque</th>\n",
       "      <th>A free copy of Mastering The Interview</th>\n",
       "      <th>Last Notable Activity</th>\n",
       "    </tr>\n",
       "  </thead>\n",
       "  <tbody>\n",
       "    <tr>\n",
       "      <th>0</th>\n",
       "      <td>7927b2df-8bba-4d29-b9a2-b6e0beafe620</td>\n",
       "      <td>660737</td>\n",
       "      <td>API</td>\n",
       "      <td>Olark Chat</td>\n",
       "      <td>No</td>\n",
       "      <td>No</td>\n",
       "      <td>0</td>\n",
       "      <td>0.0</td>\n",
       "      <td>0</td>\n",
       "      <td>0.0</td>\n",
       "      <td>...</td>\n",
       "      <td>No</td>\n",
       "      <td>Select</td>\n",
       "      <td>Select</td>\n",
       "      <td>02.Medium</td>\n",
       "      <td>02.Medium</td>\n",
       "      <td>15.0</td>\n",
       "      <td>15.0</td>\n",
       "      <td>No</td>\n",
       "      <td>No</td>\n",
       "      <td>Modified</td>\n",
       "    </tr>\n",
       "    <tr>\n",
       "      <th>1</th>\n",
       "      <td>2a272436-5132-4136-86fa-dcc88c88f482</td>\n",
       "      <td>660728</td>\n",
       "      <td>API</td>\n",
       "      <td>Organic Search</td>\n",
       "      <td>No</td>\n",
       "      <td>No</td>\n",
       "      <td>0</td>\n",
       "      <td>5.0</td>\n",
       "      <td>674</td>\n",
       "      <td>2.5</td>\n",
       "      <td>...</td>\n",
       "      <td>No</td>\n",
       "      <td>Select</td>\n",
       "      <td>Select</td>\n",
       "      <td>02.Medium</td>\n",
       "      <td>02.Medium</td>\n",
       "      <td>15.0</td>\n",
       "      <td>15.0</td>\n",
       "      <td>No</td>\n",
       "      <td>No</td>\n",
       "      <td>Email Opened</td>\n",
       "    </tr>\n",
       "    <tr>\n",
       "      <th>2</th>\n",
       "      <td>8cc8c611-a219-4f35-ad23-fdfd2656bd8a</td>\n",
       "      <td>660727</td>\n",
       "      <td>Landing Page Submission</td>\n",
       "      <td>Direct Traffic</td>\n",
       "      <td>No</td>\n",
       "      <td>No</td>\n",
       "      <td>1</td>\n",
       "      <td>2.0</td>\n",
       "      <td>1532</td>\n",
       "      <td>2.0</td>\n",
       "      <td>...</td>\n",
       "      <td>No</td>\n",
       "      <td>Potential Lead</td>\n",
       "      <td>Mumbai</td>\n",
       "      <td>02.Medium</td>\n",
       "      <td>01.High</td>\n",
       "      <td>14.0</td>\n",
       "      <td>20.0</td>\n",
       "      <td>No</td>\n",
       "      <td>Yes</td>\n",
       "      <td>Email Opened</td>\n",
       "    </tr>\n",
       "    <tr>\n",
       "      <th>3</th>\n",
       "      <td>0cc2df48-7cf4-4e39-9de9-19797f9b38cc</td>\n",
       "      <td>660719</td>\n",
       "      <td>Landing Page Submission</td>\n",
       "      <td>Direct Traffic</td>\n",
       "      <td>No</td>\n",
       "      <td>No</td>\n",
       "      <td>0</td>\n",
       "      <td>1.0</td>\n",
       "      <td>305</td>\n",
       "      <td>1.0</td>\n",
       "      <td>...</td>\n",
       "      <td>No</td>\n",
       "      <td>Select</td>\n",
       "      <td>Mumbai</td>\n",
       "      <td>02.Medium</td>\n",
       "      <td>01.High</td>\n",
       "      <td>13.0</td>\n",
       "      <td>17.0</td>\n",
       "      <td>No</td>\n",
       "      <td>No</td>\n",
       "      <td>Modified</td>\n",
       "    </tr>\n",
       "    <tr>\n",
       "      <th>4</th>\n",
       "      <td>3256f628-e534-4826-9d63-4a8b88782852</td>\n",
       "      <td>660681</td>\n",
       "      <td>Landing Page Submission</td>\n",
       "      <td>Google</td>\n",
       "      <td>No</td>\n",
       "      <td>No</td>\n",
       "      <td>1</td>\n",
       "      <td>2.0</td>\n",
       "      <td>1428</td>\n",
       "      <td>1.0</td>\n",
       "      <td>...</td>\n",
       "      <td>No</td>\n",
       "      <td>Select</td>\n",
       "      <td>Mumbai</td>\n",
       "      <td>02.Medium</td>\n",
       "      <td>01.High</td>\n",
       "      <td>15.0</td>\n",
       "      <td>18.0</td>\n",
       "      <td>No</td>\n",
       "      <td>No</td>\n",
       "      <td>Modified</td>\n",
       "    </tr>\n",
       "  </tbody>\n",
       "</table>\n",
       "<p>5 rows × 37 columns</p>\n",
       "</div>"
      ],
      "text/plain": [
       "                            Prospect ID  Lead Number              Lead Origin  \\\n",
       "0  7927b2df-8bba-4d29-b9a2-b6e0beafe620       660737                      API   \n",
       "1  2a272436-5132-4136-86fa-dcc88c88f482       660728                      API   \n",
       "2  8cc8c611-a219-4f35-ad23-fdfd2656bd8a       660727  Landing Page Submission   \n",
       "3  0cc2df48-7cf4-4e39-9de9-19797f9b38cc       660719  Landing Page Submission   \n",
       "4  3256f628-e534-4826-9d63-4a8b88782852       660681  Landing Page Submission   \n",
       "\n",
       "      Lead Source Do Not Email Do Not Call  Converted  TotalVisits  \\\n",
       "0      Olark Chat           No          No          0          0.0   \n",
       "1  Organic Search           No          No          0          5.0   \n",
       "2  Direct Traffic           No          No          1          2.0   \n",
       "3  Direct Traffic           No          No          0          1.0   \n",
       "4          Google           No          No          1          2.0   \n",
       "\n",
       "   Total Time Spent on Website  Page Views Per Visit  ...  \\\n",
       "0                            0                   0.0  ...   \n",
       "1                          674                   2.5  ...   \n",
       "2                         1532                   2.0  ...   \n",
       "3                          305                   1.0  ...   \n",
       "4                         1428                   1.0  ...   \n",
       "\n",
       "  Get updates on DM Content    Lead Profile    City  \\\n",
       "0                        No          Select  Select   \n",
       "1                        No          Select  Select   \n",
       "2                        No  Potential Lead  Mumbai   \n",
       "3                        No          Select  Mumbai   \n",
       "4                        No          Select  Mumbai   \n",
       "\n",
       "  Asymmetrique Activity Index Asymmetrique Profile Index  \\\n",
       "0                   02.Medium                  02.Medium   \n",
       "1                   02.Medium                  02.Medium   \n",
       "2                   02.Medium                    01.High   \n",
       "3                   02.Medium                    01.High   \n",
       "4                   02.Medium                    01.High   \n",
       "\n",
       "  Asymmetrique Activity Score Asymmetrique Profile Score  \\\n",
       "0                        15.0                       15.0   \n",
       "1                        15.0                       15.0   \n",
       "2                        14.0                       20.0   \n",
       "3                        13.0                       17.0   \n",
       "4                        15.0                       18.0   \n",
       "\n",
       "  I agree to pay the amount through cheque  \\\n",
       "0                                       No   \n",
       "1                                       No   \n",
       "2                                       No   \n",
       "3                                       No   \n",
       "4                                       No   \n",
       "\n",
       "  A free copy of Mastering The Interview Last Notable Activity  \n",
       "0                                     No              Modified  \n",
       "1                                     No          Email Opened  \n",
       "2                                    Yes          Email Opened  \n",
       "3                                     No              Modified  \n",
       "4                                     No              Modified  \n",
       "\n",
       "[5 rows x 37 columns]"
      ]
     },
     "execution_count": 131,
     "metadata": {},
     "output_type": "execute_result"
    }
   ],
   "source": [
    "leads_df.head()"
   ]
  },
  {
   "cell_type": "code",
   "execution_count": 132,
   "id": "d563e0b0-9493-4138-a757-bc37cc208bdb",
   "metadata": {},
   "outputs": [
    {
     "data": {
      "text/plain": [
       "Prospect ID                                       0.000000\n",
       "Lead Number                                       0.000000\n",
       "Lead Origin                                       0.000000\n",
       "Lead Source                                       0.389610\n",
       "Do Not Email                                      0.000000\n",
       "Do Not Call                                       0.000000\n",
       "Converted                                         0.000000\n",
       "TotalVisits                                       1.482684\n",
       "Total Time Spent on Website                       0.000000\n",
       "Page Views Per Visit                              1.482684\n",
       "Last Activity                                     1.114719\n",
       "Country                                          26.634199\n",
       "Specialization                                   15.562771\n",
       "How did you hear about X Education               23.885281\n",
       "What is your current occupation                  29.112554\n",
       "What matters most to you in choosing a course    29.318182\n",
       "Search                                            0.000000\n",
       "Magazine                                          0.000000\n",
       "Newspaper Article                                 0.000000\n",
       "X Education Forums                                0.000000\n",
       "Newspaper                                         0.000000\n",
       "Digital Advertisement                             0.000000\n",
       "Through Recommendations                           0.000000\n",
       "Receive More Updates About Our Courses            0.000000\n",
       "Tags                                             36.287879\n",
       "Lead Quality                                     51.590909\n",
       "Update me on Supply Chain Content                 0.000000\n",
       "Get updates on DM Content                         0.000000\n",
       "Lead Profile                                     29.318182\n",
       "City                                             15.367965\n",
       "Asymmetrique Activity Index                      45.649351\n",
       "Asymmetrique Profile Index                       45.649351\n",
       "Asymmetrique Activity Score                      45.649351\n",
       "Asymmetrique Profile Score                       45.649351\n",
       "I agree to pay the amount through cheque          0.000000\n",
       "A free copy of Mastering The Interview            0.000000\n",
       "Last Notable Activity                             0.000000\n",
       "dtype: float64"
      ]
     },
     "execution_count": 132,
     "metadata": {},
     "output_type": "execute_result"
    }
   ],
   "source": [
    "leads_df.isnull().mean()*100"
   ]
  },
  {
   "cell_type": "markdown",
   "id": "0ea71871-5e05-4b4e-83d9-fe2297044eeb",
   "metadata": {},
   "source": [
    "## Drop cols with majority of the values as NULL (> 45%)"
   ]
  },
  {
   "cell_type": "code",
   "execution_count": 134,
   "id": "bae5f0a3-db54-4671-811e-4ffb5c93d65a",
   "metadata": {},
   "outputs": [
    {
     "name": "stdout",
     "output_type": "stream",
     "text": [
      "['Lead Quality', 'Asymmetrique Activity Index', 'Asymmetrique Profile Index', 'Asymmetrique Activity Score', 'Asymmetrique Profile Score']\n"
     ]
    }
   ],
   "source": [
    "leads_cut_off=45\n",
    "leads_cols_to_drop=list(leads_df.columns[100*leads_df.isnull().mean()>leads_cut_off])\n",
    "print(leads_cols_to_drop)"
   ]
  },
  {
   "cell_type": "code",
   "execution_count": 135,
   "id": "09cfd228-d5eb-4721-8a15-6c6805d0937e",
   "metadata": {},
   "outputs": [],
   "source": [
    "leads_df1 = leads_df.drop(leads_cols_to_drop,axis=1)"
   ]
  },
  {
   "cell_type": "code",
   "execution_count": 136,
   "id": "c58303f2-c3f0-4e43-9e10-806a7b498b55",
   "metadata": {},
   "outputs": [
    {
     "data": {
      "text/plain": [
       "(9240, 32)"
      ]
     },
     "execution_count": 136,
     "metadata": {},
     "output_type": "execute_result"
    }
   ],
   "source": [
    "leads_df1.shape"
   ]
  },
  {
   "cell_type": "markdown",
   "id": "7653f0c9-fa26-475e-b1bf-df284cbd1cbc",
   "metadata": {},
   "source": [
    "## Drop \"Prospect ID\" and \"Lead Number\" as these are the ID cols"
   ]
  },
  {
   "cell_type": "code",
   "execution_count": 138,
   "id": "94a8804b-ccc1-4d0f-ad99-30e49874fc5d",
   "metadata": {},
   "outputs": [],
   "source": [
    "leads_df1.drop(\"Prospect ID\",axis=1, inplace=True)\n",
    "leads_df1.drop(\"Lead Number\",axis=1, inplace=True)"
   ]
  },
  {
   "cell_type": "code",
   "execution_count": 139,
   "id": "d7bc4f2d-1821-4f8e-a887-833ac8541f1f",
   "metadata": {},
   "outputs": [
    {
     "data": {
      "text/plain": [
       "(9240, 30)"
      ]
     },
     "execution_count": 139,
     "metadata": {},
     "output_type": "execute_result"
    }
   ],
   "source": [
    "leads_df1.shape"
   ]
  },
  {
   "cell_type": "markdown",
   "id": "3c0f72d9-30e5-4d65-b9f1-9d8c918eb455",
   "metadata": {},
   "source": [
    "## Categorical variables with level as 'Select'"
   ]
  },
  {
   "cell_type": "code",
   "execution_count": 141,
   "id": "ac7f8ced-cac8-4963-b248-e556cac1d4b9",
   "metadata": {},
   "outputs": [
    {
     "data": {
      "text/plain": [
       "Specialization\n",
       "Select                               24.891054\n",
       "Finance Management                   12.509613\n",
       "Human Resource Management            10.869008\n",
       "Marketing Management                 10.740836\n",
       "Operations Management                 6.447065\n",
       "Business Administration               5.165342\n",
       "IT Projects Management                4.691105\n",
       "Supply Chain Management               4.473212\n",
       "Banking, Investment And Insurance     4.332223\n",
       "Travel and Tourism                    2.601897\n",
       "Media and Advertising                 2.601897\n",
       "International Business                2.281466\n",
       "Healthcare Management                 2.037939\n",
       "Hospitality Management                1.461164\n",
       "E-COMMERCE                            1.435529\n",
       "Retail Management                     1.281723\n",
       "Rural and Agribusiness                0.935658\n",
       "E-Business                            0.730582\n",
       "Services Excellence                   0.512689\n",
       "Name: proportion, dtype: float64"
      ]
     },
     "execution_count": 141,
     "metadata": {},
     "output_type": "execute_result"
    }
   ],
   "source": [
    "leads_df1[\"Specialization\"].value_counts(normalize=True)*100   #24.891054"
   ]
  },
  {
   "cell_type": "code",
   "execution_count": 142,
   "id": "05b16174-8e98-4efe-aa39-c37c1525f992",
   "metadata": {},
   "outputs": [
    {
     "data": {
      "text/plain": [
       "How did you hear about X Education\n",
       "Select                   71.704820\n",
       "Online Search            11.488696\n",
       "Word Of Mouth             4.948102\n",
       "Student of SomeSchool     4.407792\n",
       "Other                     2.644675\n",
       "Multiple Sources          2.161240\n",
       "Advertisements            0.995308\n",
       "Social Media              0.952652\n",
       "Email                     0.369686\n",
       "SMS                       0.327030\n",
       "Name: proportion, dtype: float64"
      ]
     },
     "execution_count": 142,
     "metadata": {},
     "output_type": "execute_result"
    }
   ],
   "source": [
    "leads_df1[\"How did you hear about X Education\"].value_counts(normalize=True)*100  # 71.704820"
   ]
  },
  {
   "cell_type": "code",
   "execution_count": 143,
   "id": "c57693a8-1d3f-4e55-b20a-698837e9ade0",
   "metadata": {},
   "outputs": [
    {
     "data": {
      "text/plain": [
       "Lead Profile\n",
       "Select                         63.481856\n",
       "Potential Lead                 24.697596\n",
       "Other Leads                     7.456745\n",
       "Student of SomeSchool           3.690093\n",
       "Lateral Student                 0.367478\n",
       "Dual Specialization Student     0.306232\n",
       "Name: proportion, dtype: float64"
      ]
     },
     "execution_count": 143,
     "metadata": {},
     "output_type": "execute_result"
    }
   ],
   "source": [
    "leads_df1[\"Lead Profile\"].value_counts(normalize=True)*100 #63.481856"
   ]
  },
  {
   "cell_type": "code",
   "execution_count": 144,
   "id": "e4aeca2a-1302-4a3d-a64a-79acb0e77a3a",
   "metadata": {},
   "outputs": [
    {
     "data": {
      "text/plain": [
       "City\n",
       "Mumbai                         41.202046\n",
       "Select                         28.759591\n",
       "Thane & Outskirts               9.616368\n",
       "Other Cities                    8.772379\n",
       "Other Cities of Maharashtra     5.843990\n",
       "Other Metro Cities              4.859335\n",
       "Tier II Cities                  0.946292\n",
       "Name: proportion, dtype: float64"
      ]
     },
     "execution_count": 144,
     "metadata": {},
     "output_type": "execute_result"
    }
   ],
   "source": [
    "leads_df1[\"City\"].value_counts(normalize=True)*100  # 28.759591"
   ]
  },
  {
   "cell_type": "markdown",
   "id": "6c10c8a5-edb8-4de8-ac7f-e0eb8c762777",
   "metadata": {},
   "source": [
    "## Drop cols \"How did you hear about X Education\" and \"Lead Profile\" as these have very high NULL (Select) values"
   ]
  },
  {
   "cell_type": "code",
   "execution_count": 146,
   "id": "1379cefc-7fad-4d5b-a8a0-d22004390541",
   "metadata": {
    "scrolled": true
   },
   "outputs": [],
   "source": [
    "leads_df1.drop(\"How did you hear about X Education\",axis=1, inplace=True)\n",
    "leads_df1.drop(\"Lead Profile\",axis=1, inplace=True)"
   ]
  },
  {
   "cell_type": "code",
   "execution_count": 147,
   "id": "b8c5e433-beba-4532-ab22-92f272e9d38e",
   "metadata": {},
   "outputs": [
    {
     "data": {
      "text/plain": [
       "(9240, 28)"
      ]
     },
     "execution_count": 147,
     "metadata": {},
     "output_type": "execute_result"
    }
   ],
   "source": [
    "leads_df1.shape"
   ]
  },
  {
   "cell_type": "markdown",
   "id": "b372f216-c5c0-4b8f-8f1f-28e3aabc44db",
   "metadata": {},
   "source": [
    "## Replace 'Select' to NaN in cols \"Specialization\" and \"City\""
   ]
  },
  {
   "cell_type": "code",
   "execution_count": 149,
   "id": "4a2b71de-e30f-4701-95ad-8c1668b5579e",
   "metadata": {},
   "outputs": [],
   "source": [
    "leads_df1.replace({'Select': np.nan}, inplace=True)\n",
    "leads_df1.replace({'Select': np.nan}, inplace=True)"
   ]
  },
  {
   "cell_type": "markdown",
   "id": "546ba3d4-0cc8-4298-ad1b-9344d624c576",
   "metadata": {},
   "source": [
    "### recommended sensitivity and specificity %?"
   ]
  },
  {
   "cell_type": "code",
   "execution_count": 151,
   "id": "4a328045-ee3d-47db-86a8-2e74106e19d0",
   "metadata": {},
   "outputs": [
    {
     "data": {
      "text/plain": [
       "Lead Origin                                         5\n",
       "Lead Source                                        21\n",
       "Do Not Email                                        2\n",
       "Do Not Call                                         2\n",
       "Converted                                           2\n",
       "TotalVisits                                        41\n",
       "Total Time Spent on Website                      1731\n",
       "Page Views Per Visit                              114\n",
       "Last Activity                                      17\n",
       "Country                                            38\n",
       "Specialization                                     18\n",
       "What is your current occupation                     6\n",
       "What matters most to you in choosing a course       3\n",
       "Search                                              2\n",
       "Magazine                                            1\n",
       "Newspaper Article                                   2\n",
       "X Education Forums                                  2\n",
       "Newspaper                                           2\n",
       "Digital Advertisement                               2\n",
       "Through Recommendations                             2\n",
       "Receive More Updates About Our Courses              1\n",
       "Tags                                               26\n",
       "Update me on Supply Chain Content                   1\n",
       "Get updates on DM Content                           1\n",
       "City                                                6\n",
       "I agree to pay the amount through cheque            1\n",
       "A free copy of Mastering The Interview              2\n",
       "Last Notable Activity                              16\n",
       "dtype: int64"
      ]
     },
     "execution_count": 151,
     "metadata": {},
     "output_type": "execute_result"
    }
   ],
   "source": [
    "leads_df1.nunique()"
   ]
  },
  {
   "cell_type": "markdown",
   "id": "4a522aad-7c86-43bc-818f-115a3a309c43",
   "metadata": {},
   "source": [
    "## Identify the categorical and numerical cols\n",
    "Any col having less than 50 uniq values, its categorical Col\n",
    "Any col having more than 50 uniq values, its Numerical Col"
   ]
  },
  {
   "cell_type": "code",
   "execution_count": 153,
   "id": "3d08448f-f9b9-4a30-9e22-f16d66f6f79a",
   "metadata": {},
   "outputs": [],
   "source": [
    "leads_cat_cols=[]\n",
    "leads_num_cols=[]\n",
    "for col in leads_df1.columns:\n",
    "    if leads_df1[col].nunique()>=50:\n",
    "        leads_num_cols.append(col)\n",
    "    else:\n",
    "        leads_cat_cols.append(col)"
   ]
  },
  {
   "cell_type": "code",
   "execution_count": 154,
   "id": "cd3d2b3f-e5fc-460a-9979-ca7dff62f5eb",
   "metadata": {},
   "outputs": [
    {
     "data": {
      "text/plain": [
       "26"
      ]
     },
     "execution_count": 154,
     "metadata": {},
     "output_type": "execute_result"
    }
   ],
   "source": [
    "len(leads_cat_cols)"
   ]
  },
  {
   "cell_type": "code",
   "execution_count": 155,
   "id": "52287ef0-2d0b-44ae-9ded-a32fc5088e5e",
   "metadata": {},
   "outputs": [
    {
     "data": {
      "text/plain": [
       "2"
      ]
     },
     "execution_count": 155,
     "metadata": {},
     "output_type": "execute_result"
    }
   ],
   "source": [
    "len(leads_num_cols)"
   ]
  },
  {
   "cell_type": "markdown",
   "id": "d704222a-e93b-490f-a9ac-5e1a79a75dc5",
   "metadata": {},
   "source": [
    "#### - fill in the missing values with median for numerical cols\n",
    "#### - fill in the missing values with mode for categorical cols"
   ]
  },
  {
   "cell_type": "code",
   "execution_count": 157,
   "id": "b9d0d6e0-70cc-417e-88d9-6264f398eaa1",
   "metadata": {},
   "outputs": [],
   "source": [
    "# Replacing missing values with median in case of numerical columns\n",
    "for col in leads_num_cols:\n",
    "    med = leads_df1[col].median()\n",
    "    leads_df1[col] = leads_df1[col].fillna(med)"
   ]
  },
  {
   "cell_type": "code",
   "execution_count": 158,
   "id": "012297af-873c-4ca9-9600-29c069b7e03c",
   "metadata": {},
   "outputs": [],
   "source": [
    "# Replacing missing values with mode in case of categorical columns\n",
    "for col in leads_cat_cols:\n",
    "    mod = leads_df1[col].mode()[0]\n",
    "    leads_df1[col] = leads_df1[col].fillna(mod)"
   ]
  },
  {
   "cell_type": "code",
   "execution_count": 159,
   "id": "0e8e979f-5113-4e78-baba-95646fb098ea",
   "metadata": {},
   "outputs": [
    {
     "data": {
      "text/plain": [
       "Lead Origin                                      0.0\n",
       "Lead Source                                      0.0\n",
       "Do Not Email                                     0.0\n",
       "Do Not Call                                      0.0\n",
       "Converted                                        0.0\n",
       "TotalVisits                                      0.0\n",
       "Total Time Spent on Website                      0.0\n",
       "Page Views Per Visit                             0.0\n",
       "Last Activity                                    0.0\n",
       "Country                                          0.0\n",
       "Specialization                                   0.0\n",
       "What is your current occupation                  0.0\n",
       "What matters most to you in choosing a course    0.0\n",
       "Search                                           0.0\n",
       "Magazine                                         0.0\n",
       "Newspaper Article                                0.0\n",
       "X Education Forums                               0.0\n",
       "Newspaper                                        0.0\n",
       "Digital Advertisement                            0.0\n",
       "Through Recommendations                          0.0\n",
       "Receive More Updates About Our Courses           0.0\n",
       "Tags                                             0.0\n",
       "Update me on Supply Chain Content                0.0\n",
       "Get updates on DM Content                        0.0\n",
       "City                                             0.0\n",
       "I agree to pay the amount through cheque         0.0\n",
       "A free copy of Mastering The Interview           0.0\n",
       "Last Notable Activity                            0.0\n",
       "dtype: float64"
      ]
     },
     "execution_count": 159,
     "metadata": {},
     "output_type": "execute_result"
    }
   ],
   "source": [
    "leads_df1.isnull().mean()*100"
   ]
  },
  {
   "cell_type": "code",
   "execution_count": null,
   "id": "5e3e519b-2c5e-4237-a83b-54459ce4bbbe",
   "metadata": {},
   "outputs": [],
   "source": []
  },
  {
   "cell_type": "code",
   "execution_count": null,
   "id": "8d107eb8-f3ce-4d9b-845d-cd2ca7c74be6",
   "metadata": {},
   "outputs": [],
   "source": []
  },
  {
   "cell_type": "code",
   "execution_count": null,
   "id": "7d8821ff-9716-4441-a300-880e5339e56f",
   "metadata": {},
   "outputs": [],
   "source": []
  },
  {
   "cell_type": "code",
   "execution_count": null,
   "id": "439a7be5-e898-4851-a1d3-91e39700312b",
   "metadata": {},
   "outputs": [],
   "source": []
  },
  {
   "cell_type": "code",
   "execution_count": null,
   "id": "ff8c989f-e0be-49de-8ee6-682bb5a9dc3b",
   "metadata": {},
   "outputs": [],
   "source": []
  },
  {
   "cell_type": "code",
   "execution_count": null,
   "id": "465d1b09-1247-4c42-b5f7-0949196c9b54",
   "metadata": {},
   "outputs": [],
   "source": []
  },
  {
   "cell_type": "code",
   "execution_count": null,
   "id": "6137c8c1-369c-4c56-9888-d663bd6ff9e5",
   "metadata": {},
   "outputs": [],
   "source": []
  },
  {
   "cell_type": "code",
   "execution_count": null,
   "id": "b09da3d2-e4de-4b1d-b727-33e3f0c7f4ee",
   "metadata": {},
   "outputs": [],
   "source": []
  },
  {
   "cell_type": "code",
   "execution_count": null,
   "id": "450b7a38-d792-4520-ac3e-87a4632fb2be",
   "metadata": {},
   "outputs": [],
   "source": []
  },
  {
   "cell_type": "code",
   "execution_count": null,
   "id": "c814de52-6c9b-4f36-8a4f-98f5273dcd80",
   "metadata": {},
   "outputs": [],
   "source": []
  },
  {
   "cell_type": "code",
   "execution_count": null,
   "id": "4e27c816-89c8-4285-aef2-b6e0fa5f28a1",
   "metadata": {},
   "outputs": [],
   "source": []
  },
  {
   "cell_type": "code",
   "execution_count": null,
   "id": "aa34eed2-a235-41cc-9430-14b222ca5117",
   "metadata": {},
   "outputs": [],
   "source": []
  },
  {
   "cell_type": "code",
   "execution_count": null,
   "id": "e1d55430-a376-44cc-8805-0a38d30ae289",
   "metadata": {},
   "outputs": [],
   "source": []
  },
  {
   "cell_type": "code",
   "execution_count": null,
   "id": "1840c125-df92-467a-8784-b9a5ba63e83a",
   "metadata": {},
   "outputs": [],
   "source": []
  },
  {
   "cell_type": "code",
   "execution_count": null,
   "id": "945afb4c-98b2-4c67-ae58-a947e0d13b53",
   "metadata": {},
   "outputs": [],
   "source": []
  },
  {
   "cell_type": "code",
   "execution_count": null,
   "id": "2e15998d-bb84-420f-b244-21e6f4b7c303",
   "metadata": {},
   "outputs": [],
   "source": []
  },
  {
   "cell_type": "code",
   "execution_count": null,
   "id": "e4e9d55f-bbad-4c9f-a047-a1ef4c63a41b",
   "metadata": {},
   "outputs": [],
   "source": []
  },
  {
   "cell_type": "code",
   "execution_count": null,
   "id": "c47ef506-40a2-48b2-b5aa-96a8853b6250",
   "metadata": {},
   "outputs": [],
   "source": []
  },
  {
   "cell_type": "code",
   "execution_count": null,
   "id": "538b2c06-bbf8-4241-8780-1ef6c2cc6e70",
   "metadata": {},
   "outputs": [],
   "source": []
  },
  {
   "cell_type": "code",
   "execution_count": null,
   "id": "7c62bac1-f369-4e98-bca7-d120aeb30a60",
   "metadata": {},
   "outputs": [],
   "source": []
  },
  {
   "cell_type": "code",
   "execution_count": null,
   "id": "a07194a3-0e49-4a9e-b3da-e3d1ddfd8131",
   "metadata": {},
   "outputs": [],
   "source": []
  }
 ],
 "metadata": {
  "kernelspec": {
   "display_name": "Python 3 (ipykernel)",
   "language": "python",
   "name": "python3"
  },
  "language_info": {
   "codemirror_mode": {
    "name": "ipython",
    "version": 3
   },
   "file_extension": ".py",
   "mimetype": "text/x-python",
   "name": "python",
   "nbconvert_exporter": "python",
   "pygments_lexer": "ipython3",
   "version": "3.12.4"
  }
 },
 "nbformat": 4,
 "nbformat_minor": 5
}
